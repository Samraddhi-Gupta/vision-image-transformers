{
  "cells": [
    {
      "cell_type": "markdown",
      "metadata": {
        "id": "-eWVL6QPtJqx"
      },
      "source": [
        "###                     **Stemming and Lemmatization: Exercises**"
      ]
    },
    {
      "cell_type": "markdown",
      "metadata": {
        "id": "kTtlKSIqZktK"
      },
      "source": [
        "- **Run this cell to import all necessary packages**"
      ]
    },
    {
      "cell_type": "code",
      "execution_count": null,
      "metadata": {
        "id": "fn0J_mWHtM57"
      },
      "outputs": [],
      "source": [
        "#let import necessary libraries and create the object\n",
        "\n",
        "#for nltk\n",
        "import nltk\n",
        "from nltk.stem import PorterStemmer\n",
        "stemmer = PorterStemmer()\n",
        "\n",
        "#downloading all neccessary packages related to nltk\n",
        "nltk.download('all')\n",
        "\n",
        "\n",
        "#for spacy\n",
        "import spacy\n",
        "nlp = spacy.load(\"en_core_web_sm\")"
      ]
    },
    {
      "cell_type": "markdown",
      "metadata": {
        "id": "xCjMD77juhOm"
      },
      "source": [
        "**Exercise1:**\n",
        "- Convert these list of words into base form using Stemming and Lemmatization and observe the transformations\n",
        "- Write a short note on the words that have different base words using stemming and Lemmatization"
      ]
    },
    {
      "cell_type": "code",
      "execution_count": null,
      "metadata": {
        "id": "5Ytgw50jtM_h"
      },
      "outputs": [],
      "source": [
        "#using stemming in nltk\n",
        "lst_words = ['running', 'painting', 'walking', 'dressing', 'likely', 'children', 'whom', 'good', 'ate', 'fishing']\n",
        "\n"
      ]
    },
    {
      "cell_type": "code",
      "execution_count": null,
      "metadata": {
        "id": "uU7oPj0ftNCP"
      },
      "outputs": [],
      "source": [
        "#using lemmatization in spacy\n",
        "\n",
        "doc = nlp(\"running painting walking dressing likely children who good ate fishing\")\n",
        "\n"
      ]
    },
    {
      "cell_type": "markdown",
      "metadata": {
        "id": "CLjsQGjVye5W"
      },
      "source": [
        "**Exercise2:**\n",
        "\n",
        "- convert the given text into it's base form using both stemming and lemmatization"
      ]
    },
    {
      "cell_type": "code",
      "execution_count": null,
      "metadata": {
        "id": "0weT7a9tygnk"
      },
      "outputs": [],
      "source": [
        "text = \"\"\"Latha is very multi talented girl.She is good at many skills like dancing, running, singing, playing.She also likes eating Pav Bhagi. she has a\n",
        "habit of fishing and swimming too.Besides all this, she is a wonderful at cooking too.\n",
        "\"\"\""
      ]
    },
    {
      "cell_type": "code",
      "execution_count": null,
      "metadata": {
        "id": "JP29y7cjygqa"
      },
      "outputs": [],
      "source": [
        "#using stemming in nltk\n",
        "\n",
        "\n",
        "#step1: Word tokenizing\n",
        "\n",
        "\n",
        "\n",
        "\n",
        "#step2: getting the base form for each token using stemmer\n",
        "\n",
        "\n",
        "\n",
        "\n",
        "#step3: joining all words in a list into string using 'join()'\n"
      ]
    },
    {
      "cell_type": "code",
      "execution_count": null,
      "metadata": {
        "id": "hysIhJuxyg0B"
      },
      "outputs": [],
      "source": [
        "#using lemmatisation in spacy\n",
        "\n",
        "\n",
        "#step1: Creating the object for the given text\n",
        "\n",
        "\n",
        "\n",
        "#step2: getting the base form for each token using spacy 'lemma_'\n",
        "\n",
        "\n",
        "\n",
        "\n",
        "#step3: joining all words in a list into string using 'join()'\n"
      ]
    }
  ],
  "metadata": {
    "colab": {
      "provenance": []
    },
    "kernelspec": {
      "display_name": "Python 3 (ipykernel)",
      "language": "python",
      "name": "python3"
    },
    "language_info": {
      "codemirror_mode": {
        "name": "ipython",
        "version": 3
      },
      "file_extension": ".py",
      "mimetype": "text/x-python",
      "name": "python",
      "nbconvert_exporter": "python",
      "pygments_lexer": "ipython3",
      "version": "3.8.10"
    }
  },
  "nbformat": 4,
  "nbformat_minor": 0
}